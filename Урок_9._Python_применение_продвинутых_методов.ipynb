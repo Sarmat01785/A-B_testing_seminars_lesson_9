{
 "cells": [
  {
   "cell_type": "markdown",
   "id": "a03f38fd",
   "metadata": {},
   "source": [
    "# Анализ результатов A/B-тестирования\n",
    "\n",
    "## Задача:\n",
    "\n",
    "**Проанализируйте результаты эксперимента и напишите свои рекомендации менеджеру.**\n",
    "\n",
    "Эксперимент проводился с целью понять, как изменение в игре (размещение ворот на уровне 30 или 40) влияет на поведение пользователей. Основные метрики, которые мы анализируем:\n",
    "\n",
    "- `sum_gamerounds` - суммарное количество раундов, сыгранных пользователем за первую неделю после установки.\n",
    "- `retention_1` - доля пользователей, вернувшихся в игру через 1 день после установки.\n",
    "- `retention_7` - доля пользователей, вернувшихся через 7 дней после установки.\n",
    "\n",
    "Данные были собраны и представлены в следующей структуре:\n",
    "\n",
    "| userid          | version | sum_gamerounds | retention_1 | retention_7 |\n",
    "|-----------------|---------|----------------|-------------|-------------|\n",
    "| Идентификатор пользователя | Версия игры | Сыгранные раунды | Возврат на 1-й день | Возврат на 7-й день |\n",
    "\n",
    "Наша задача - провести первичный анализ данных и использовать статистические методы для оценки результатов эксперимента."
   ]
  },
  {
   "cell_type": "code",
   "execution_count": 15,
   "id": "88737096",
   "metadata": {},
   "outputs": [],
   "source": [
    "# Импортируем необходимые библиотеки\n",
    "import pandas as pd\n",
    "import matplotlib.pyplot as plt\n",
    "from scipy.stats import ttest_ind, chi2_contingency"
   ]
  },
  {
   "cell_type": "code",
   "execution_count": 16,
   "id": "67ddf753",
   "metadata": {},
   "outputs": [],
   "source": [
    "# Чтение данных из CSV файла\n",
    "df = pd.read_csv('Результаты А_B.csv')"
   ]
  },
  {
   "cell_type": "code",
   "execution_count": 20,
   "id": "4cd73cd0",
   "metadata": {},
   "outputs": [
    {
     "data": {
      "text/html": [
       "<div>\n",
       "<style scoped>\n",
       "    .dataframe tbody tr th:only-of-type {\n",
       "        vertical-align: middle;\n",
       "    }\n",
       "\n",
       "    .dataframe tbody tr th {\n",
       "        vertical-align: top;\n",
       "    }\n",
       "\n",
       "    .dataframe thead th {\n",
       "        text-align: right;\n",
       "    }\n",
       "</style>\n",
       "<table border=\"1\" class=\"dataframe\">\n",
       "  <thead>\n",
       "    <tr style=\"text-align: right;\">\n",
       "      <th></th>\n",
       "      <th>userid</th>\n",
       "      <th>version</th>\n",
       "      <th>sum_gamerounds</th>\n",
       "      <th>retention_1</th>\n",
       "      <th>retention_7</th>\n",
       "    </tr>\n",
       "  </thead>\n",
       "  <tbody>\n",
       "    <tr>\n",
       "      <th>0</th>\n",
       "      <td>116</td>\n",
       "      <td>gate_30</td>\n",
       "      <td>3</td>\n",
       "      <td>0</td>\n",
       "      <td>0</td>\n",
       "    </tr>\n",
       "    <tr>\n",
       "      <th>1</th>\n",
       "      <td>337</td>\n",
       "      <td>gate_30</td>\n",
       "      <td>38</td>\n",
       "      <td>1</td>\n",
       "      <td>0</td>\n",
       "    </tr>\n",
       "    <tr>\n",
       "      <th>2</th>\n",
       "      <td>377</td>\n",
       "      <td>gate_40</td>\n",
       "      <td>165</td>\n",
       "      <td>1</td>\n",
       "      <td>0</td>\n",
       "    </tr>\n",
       "    <tr>\n",
       "      <th>3</th>\n",
       "      <td>483</td>\n",
       "      <td>gate_40</td>\n",
       "      <td>1</td>\n",
       "      <td>0</td>\n",
       "      <td>0</td>\n",
       "    </tr>\n",
       "    <tr>\n",
       "      <th>4</th>\n",
       "      <td>488</td>\n",
       "      <td>gate_40</td>\n",
       "      <td>179</td>\n",
       "      <td>1</td>\n",
       "      <td>1</td>\n",
       "    </tr>\n",
       "    <tr>\n",
       "      <th>...</th>\n",
       "      <td>...</td>\n",
       "      <td>...</td>\n",
       "      <td>...</td>\n",
       "      <td>...</td>\n",
       "      <td>...</td>\n",
       "    </tr>\n",
       "    <tr>\n",
       "      <th>90184</th>\n",
       "      <td>9999441</td>\n",
       "      <td>gate_40</td>\n",
       "      <td>97</td>\n",
       "      <td>1</td>\n",
       "      <td>0</td>\n",
       "    </tr>\n",
       "    <tr>\n",
       "      <th>90185</th>\n",
       "      <td>9999479</td>\n",
       "      <td>gate_40</td>\n",
       "      <td>30</td>\n",
       "      <td>0</td>\n",
       "      <td>0</td>\n",
       "    </tr>\n",
       "    <tr>\n",
       "      <th>90186</th>\n",
       "      <td>9999710</td>\n",
       "      <td>gate_30</td>\n",
       "      <td>28</td>\n",
       "      <td>1</td>\n",
       "      <td>0</td>\n",
       "    </tr>\n",
       "    <tr>\n",
       "      <th>90187</th>\n",
       "      <td>9999768</td>\n",
       "      <td>gate_40</td>\n",
       "      <td>51</td>\n",
       "      <td>1</td>\n",
       "      <td>0</td>\n",
       "    </tr>\n",
       "    <tr>\n",
       "      <th>90188</th>\n",
       "      <td>9999861</td>\n",
       "      <td>gate_40</td>\n",
       "      <td>16</td>\n",
       "      <td>0</td>\n",
       "      <td>0</td>\n",
       "    </tr>\n",
       "  </tbody>\n",
       "</table>\n",
       "<p>90189 rows × 5 columns</p>\n",
       "</div>"
      ],
      "text/plain": [
       "        userid  version  sum_gamerounds  retention_1  retention_7\n",
       "0          116  gate_30               3            0            0\n",
       "1          337  gate_30              38            1            0\n",
       "2          377  gate_40             165            1            0\n",
       "3          483  gate_40               1            0            0\n",
       "4          488  gate_40             179            1            1\n",
       "...        ...      ...             ...          ...          ...\n",
       "90184  9999441  gate_40              97            1            0\n",
       "90185  9999479  gate_40              30            0            0\n",
       "90186  9999710  gate_30              28            1            0\n",
       "90187  9999768  gate_40              51            1            0\n",
       "90188  9999861  gate_40              16            0            0\n",
       "\n",
       "[90189 rows x 5 columns]"
      ]
     },
     "execution_count": 20,
     "metadata": {},
     "output_type": "execute_result"
    }
   ],
   "source": [
    "# Выведем первые пять строк датафрейма и поледние пять строк для ознакомления\n",
    "df"
   ]
  },
  {
   "cell_type": "code",
   "execution_count": 19,
   "id": "8f5e81ce",
   "metadata": {},
   "outputs": [
    {
     "name": "stdout",
     "output_type": "stream",
     "text": [
      "<class 'pandas.core.frame.DataFrame'>\n",
      "RangeIndex: 90189 entries, 0 to 90188\n",
      "Data columns (total 5 columns):\n",
      " #   Column          Non-Null Count  Dtype \n",
      "---  ------          --------------  ----- \n",
      " 0   userid          90189 non-null  int64 \n",
      " 1   version         90189 non-null  object\n",
      " 2   sum_gamerounds  90189 non-null  int64 \n",
      " 3   retention_1     90189 non-null  int64 \n",
      " 4   retention_7     90189 non-null  int64 \n",
      "dtypes: int64(4), object(1)\n",
      "memory usage: 3.4+ MB\n"
     ]
    }
   ],
   "source": [
    "# Получим информацию о типах данных и количестве непустых значений\n",
    "df.info()"
   ]
  },
  {
   "cell_type": "code",
   "execution_count": 18,
   "id": "5ddd2303",
   "metadata": {},
   "outputs": [
    {
     "data": {
      "text/html": [
       "<div>\n",
       "<style scoped>\n",
       "    .dataframe tbody tr th:only-of-type {\n",
       "        vertical-align: middle;\n",
       "    }\n",
       "\n",
       "    .dataframe tbody tr th {\n",
       "        vertical-align: top;\n",
       "    }\n",
       "\n",
       "    .dataframe thead th {\n",
       "        text-align: right;\n",
       "    }\n",
       "</style>\n",
       "<table border=\"1\" class=\"dataframe\">\n",
       "  <thead>\n",
       "    <tr style=\"text-align: right;\">\n",
       "      <th></th>\n",
       "      <th>userid</th>\n",
       "      <th>sum_gamerounds</th>\n",
       "      <th>retention_1</th>\n",
       "      <th>retention_7</th>\n",
       "    </tr>\n",
       "  </thead>\n",
       "  <tbody>\n",
       "    <tr>\n",
       "      <th>count</th>\n",
       "      <td>9.018900e+04</td>\n",
       "      <td>90189.000000</td>\n",
       "      <td>90189.000000</td>\n",
       "      <td>90189.000000</td>\n",
       "    </tr>\n",
       "    <tr>\n",
       "      <th>mean</th>\n",
       "      <td>4.998412e+06</td>\n",
       "      <td>51.872457</td>\n",
       "      <td>0.445210</td>\n",
       "      <td>0.186065</td>\n",
       "    </tr>\n",
       "    <tr>\n",
       "      <th>std</th>\n",
       "      <td>2.883286e+06</td>\n",
       "      <td>195.050858</td>\n",
       "      <td>0.496992</td>\n",
       "      <td>0.389161</td>\n",
       "    </tr>\n",
       "    <tr>\n",
       "      <th>min</th>\n",
       "      <td>1.160000e+02</td>\n",
       "      <td>0.000000</td>\n",
       "      <td>0.000000</td>\n",
       "      <td>0.000000</td>\n",
       "    </tr>\n",
       "    <tr>\n",
       "      <th>25%</th>\n",
       "      <td>2.512230e+06</td>\n",
       "      <td>5.000000</td>\n",
       "      <td>0.000000</td>\n",
       "      <td>0.000000</td>\n",
       "    </tr>\n",
       "    <tr>\n",
       "      <th>50%</th>\n",
       "      <td>4.995815e+06</td>\n",
       "      <td>16.000000</td>\n",
       "      <td>0.000000</td>\n",
       "      <td>0.000000</td>\n",
       "    </tr>\n",
       "    <tr>\n",
       "      <th>75%</th>\n",
       "      <td>7.496452e+06</td>\n",
       "      <td>51.000000</td>\n",
       "      <td>1.000000</td>\n",
       "      <td>0.000000</td>\n",
       "    </tr>\n",
       "    <tr>\n",
       "      <th>max</th>\n",
       "      <td>9.999861e+06</td>\n",
       "      <td>49854.000000</td>\n",
       "      <td>1.000000</td>\n",
       "      <td>1.000000</td>\n",
       "    </tr>\n",
       "  </tbody>\n",
       "</table>\n",
       "</div>"
      ],
      "text/plain": [
       "             userid  sum_gamerounds   retention_1   retention_7\n",
       "count  9.018900e+04    90189.000000  90189.000000  90189.000000\n",
       "mean   4.998412e+06       51.872457      0.445210      0.186065\n",
       "std    2.883286e+06      195.050858      0.496992      0.389161\n",
       "min    1.160000e+02        0.000000      0.000000      0.000000\n",
       "25%    2.512230e+06        5.000000      0.000000      0.000000\n",
       "50%    4.995815e+06       16.000000      0.000000      0.000000\n",
       "75%    7.496452e+06       51.000000      1.000000      0.000000\n",
       "max    9.999861e+06    49854.000000      1.000000      1.000000"
      ]
     },
     "execution_count": 18,
     "metadata": {},
     "output_type": "execute_result"
    }
   ],
   "source": [
    "# Описательные статистики для количественных переменных\n",
    "df.describe()"
   ]
  },
  {
   "cell_type": "code",
   "execution_count": 17,
   "id": "4c6d269a",
   "metadata": {},
   "outputs": [
    {
     "data": {
      "text/plain": [
       "sum_gamerounds\n",
       "1       5538\n",
       "2       4606\n",
       "0       3994\n",
       "3       3958\n",
       "4       3629\n",
       "        ... \n",
       "858        1\n",
       "1102       1\n",
       "618        1\n",
       "1027       1\n",
       "708        1\n",
       "Name: count, Length: 942, dtype: int64"
      ]
     },
     "execution_count": 17,
     "metadata": {},
     "output_type": "execute_result"
    }
   ],
   "source": [
    "# Подсчет уникальных значений для количества игровых раундов\n",
    "df.sum_gamerounds.value_counts()"
   ]
  },
  {
   "cell_type": "code",
   "execution_count": 21,
   "id": "3a8bdbf9",
   "metadata": {
    "scrolled": false
   },
   "outputs": [
    {
     "data": {
      "text/plain": [
       "userid            0\n",
       "version           0\n",
       "sum_gamerounds    0\n",
       "retention_1       0\n",
       "retention_7       0\n",
       "dtype: int64"
      ]
     },
     "execution_count": 21,
     "metadata": {},
     "output_type": "execute_result"
    }
   ],
   "source": [
    "# Проверка на наличие пропущенных значений\n",
    "df.isnull().sum()"
   ]
  },
  {
   "cell_type": "code",
   "execution_count": 22,
   "id": "400d5692",
   "metadata": {
    "scrolled": false
   },
   "outputs": [
    {
     "data": {
      "text/plain": [
       "90189"
      ]
     },
     "execution_count": 22,
     "metadata": {},
     "output_type": "execute_result"
    }
   ],
   "source": [
    "# Общее количество записей в датафрейме\n",
    "df.shape[0]"
   ]
  },
  {
   "cell_type": "code",
   "execution_count": 23,
   "id": "58f19500",
   "metadata": {},
   "outputs": [
    {
     "name": "stdout",
     "output_type": "stream",
     "text": [
      "T-статистика: 0.8910426211362967, P-значение: 0.37290868247405207\n",
      "P-значение для возврата на 1-й день: 0.07550476210309086\n",
      "P-значение для возврата на 7-й день: 0.0016005742679058301\n"
     ]
    },
    {
     "data": {
      "image/png": "[encoded data removed]",
      "text/plain": [
       "<Figure size 640x480 with 1 Axes>"
      ]
     },
     "metadata": {},
     "output_type": "display_data"
    }
   ],
   "source": [
    "# Статистический анализ и визуализация:\n",
    "\n",
    "# Сравним среднее количество игровых раундов между двумя группами\n",
    "group_30 = df[df['version'] == 'gate_30']['sum_gamerounds']\n",
    "group_40 = df[df['version'] == 'gate_40']['sum_gamerounds']\n",
    "\n",
    "# Проведем t-тест для сравнения средних значений между двумя группами\n",
    "t_stat, p_val = ttest_ind(group_30, group_40)\n",
    "print(f\"T-статистика: {t_stat}, P-значение: {p_val}\")\n",
    "\n",
    "# Chi-square тест для сравнения долей возвращения пользователей на 1-й и 7-й дни\n",
    "chi2_stat_1, p_val_1, _, _ = chi2_contingency(pd.crosstab(df['version'], df['retention_1']))\n",
    "chi2_stat_7, p_val_7, _, _ = chi2_contingency(pd.crosstab(df['version'], df['retention_7']))\n",
    "print(f\"P-значение для возврата на 1-й день: {p_val_1}\")\n",
    "print(f\"P-значение для возврата на 7-й день: {p_val_7}\")\n",
    "\n",
    "# Визуализация распределения количества игровых раундов\n",
    "plt.hist(group_30, alpha=0.5, label='gate_30')\n",
    "plt.hist(group_40, alpha=0.5, label='gate_40')\n",
    "plt.legend(loc='upper right')\n",
    "plt.xlabel('Количество игровых раундов')\n",
    "plt.ylabel('Число пользователей')\n",
    "plt.title('Распределение количества игровых раундов для разных групп')\n",
    "plt.show()"
   ]
  },
  {
   "cell_type": "markdown",
   "id": "3aa39ff5",
   "metadata": {},
   "source": [
    "# Заключение и рекомендации\n",
    "\n",
    "По результатам статистического анализа мы получили следующие данные:\n",
    "\n",
    "- **T-тест для сравнения среднего количества игровых раундов:** \n",
    "    - T-статистика: 0.891\n",
    "    - P-значение: 0.373\n",
    "    \n",
    "    С учетом значения P-значения, которое значительно выше стандартного порога в 0.05, мы не имеем оснований отвергать нулевую гипотезу о равенстве средних. Это означает, что статистически значимых различий в среднем количестве игровых раундов между группами `gate_30` и `gate_40` не обнаружено.\n",
    "\n",
    "- **Chi-square тест для сравнения доли возврата на 1-й день:**\n",
    "    - P-значение: 0.0755\n",
    "    \n",
    "    P-значение выше уровня значимости в 0.05, что указывает на отсутствие статистически значимых различий в доле возврата пользователей на 1-й день между двумя группами.\n",
    "\n",
    "- **Chi-square тест для сравнения доли возврата на 7-й день:**\n",
    "    - P-значение: 0.0016\n",
    "    \n",
    "    P-значение меньше 0.05, что свидетельствует о наличии статистически значимых различий в доле возврата пользователей на 7-й день. Группа `gate_30` показала лучшие результаты по удержанию пользователей на 7-й день по сравнению с группой `gate_40`.\n",
    "\n",
    "### Рекомендации:\n",
    "\n",
    "На основе проведенного анализа, можно предположить, что изменение размещения ворот с 30 на 40 уровень не привело к увеличению вовлеченности пользователей в краткосрочной перспективе (среднее количество игровых раундов и возврат на 1-й день не изменились). Однако, в долгосрочной перспективе (возврат на 7-й день) размещение ворот на 30 уровне оказалось эффективнее для удержания пользователей.\n",
    "\n",
    "В свете этих выводов, рекомендуется **оставить ворота на 30 уровне**, так как это способствует более высокому показателю удержания игроков через неделю после начала игры."
   ]
  }
 ],
 "metadata": {
  "kernelspec": {
   "display_name": "Python 3 (ipykernel)",
   "language": "python",
   "name": "python3"
  },
  "language_info": {
   "codemirror_mode": {
    "name": "ipython",
    "version": 3
   },
   "file_extension": ".py",
   "mimetype": "text/x-python",
   "name": "python",
   "nbconvert_exporter": "python",
   "pygments_lexer": "ipython3",
   "version": "3.11.5"
  }
 },
 "nbformat": 4,
 "nbformat_minor": 5
}
